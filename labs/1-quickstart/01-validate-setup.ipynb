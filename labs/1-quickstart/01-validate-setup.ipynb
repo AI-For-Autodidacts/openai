{
 "cells": [
  {
   "cell_type": "markdown",
   "id": "84245473",
   "metadata": {},
   "source": [
    "<div style=\"\n",
    "    background: linear-gradient(135deg, #0f4c75 0%, #3282b8 50%, #14a085 100%);\n",
    "    padding: 30px;\n",
    "    border-radius: 15px;\n",
    "    margin: 20px 0;\n",
    "    box-shadow: 0 8px 32px rgba(15, 76, 117, 0.3), 0 2px 4px rgba(0, 0, 0, 0.1);\n",
    "    text-align: left;\n",
    "\">\n",
    "    <h1 style=\"\n",
    "        color: white;\n",
    "        font-size: 2.5em;\n",
    "        margin: 0;\n",
    "        text-shadow: 2px 2px 4px rgba(0,0,0,0.3);\n",
    "        font-weight: bold;\n",
    "        letter-spacing: 1px;\n",
    "    \">🚀 Lab 01: Validate Setup</h1>\n",
    "</div>\n",
    "\n",
    "### 🎯 **Objective**\n",
    "The objective is to setup our environment variables and make a basic API call to validate that things work.\n",
    "\n",
    "### 👩🏽‍💻 **What You'll Learn**\n",
    "\n",
    "This is part of the [Developer Quickstart](https://platform.openai.com/docs/quickstart) series that covers the [Generate Text](https://platform.openai.com/docs/quickstart#page-top) capabilities. We Will:\n",
    "\n",
    "- ✅ Setup the developer environment and validate our OpenAI key\n",
    "- ✅ Install the Responses starter app and take it for a spin\n",
    "- ✅ Try out text generation and basic prompt engineering\n",
    "\n",
    "### 📚 **Relevant Resources**\n",
    "- [OpenAI Quickststart](https://platform.openai.com/docs/quickstart) - get starter code\n",
    "- [Setup Development Environment](https://platform.openai.com/docs/libraries?language=python) - for OpenAI\n",
    "- [Managing GitHub Codespaces Secrets](https://docs.github.com/en/codespaces/managing-your-codespaces/managing-your-account-specific-secrets-for-github-codespaces) - store OpenAI key for codespaces reuse\n",
    "\n",
    "<div style=\"\n",
    "    background: linear-gradient(90deg, #0f4c75, #3282b8, #14a085);\n",
    "    height: 4px;\n",
    "    border-radius: 2px;\n",
    "    margin: 20px 0;\n",
    "    box-shadow: 0 2px 4px rgba(15, 76, 117, 0.2);\n",
    "\"></div>\n"
   ]
  },
  {
   "cell_type": "markdown",
   "id": "a23ce37b",
   "metadata": {},
   "source": [
    "---\n",
    "### Step 1: Setup Environment\n",
    "\n",
    "We'll follow the guidelines in the [Developer Quickstart](https://platform.openai.com/docs/quickstart) starting with \n",
    "\n",
    "1. Copy the `.env.sample` file to a new file named `.env`.\n",
    "1. Open the `.env` file and set the value for `OPENAI_API_KEY`\n",
    "1. Follow [this guidance](https://platform.openai.com/docs/libraries?language=python) to get the keys"
   ]
  },
  {
   "cell_type": "code",
   "execution_count": 3,
   "id": "c5337b72",
   "metadata": {},
   "outputs": [
    {
     "name": "stdout",
     "output_type": "stream",
     "text": [
      "openai is installed.\n",
      "dotenv is installed.\n"
     ]
    }
   ],
   "source": [
    "# Check that these python libraries are installed\n",
    "libraries = ['openai', 'dotenv']\n",
    "\n",
    "import importlib.util\n",
    "def check_library_installed(library_name):\n",
    "    return importlib.util.find_spec(library_name) is not None\n",
    "\n",
    "for lib in libraries:\n",
    "    if check_library_installed(lib):\n",
    "        print(f\"{lib} is installed.\")\n",
    "    else:\n",
    "        print(f\"{lib} is NOT installed.\")"
   ]
  },
  {
   "cell_type": "code",
   "execution_count": 5,
   "id": "242c9921",
   "metadata": {},
   "outputs": [
    {
     "name": "stdout",
     "output_type": "stream",
     "text": [
      "OPENAI_API_KEY is set.\n"
     ]
    }
   ],
   "source": [
    "# Check that these environment variables are set\n",
    "import os\n",
    "api_key = os.getenv(\"OPENAI_API_KEY\")\n",
    "\n",
    "if api_key:\n",
    "    print(\"OPENAI_API_KEY is set.\")\n",
    "else:\n",
    "    print(\"OPENAI_API_KEY is NOT set.\")"
   ]
  },
  {
   "cell_type": "markdown",
   "id": "18983aa0",
   "metadata": {},
   "source": [
    "--- \n",
    "### Step 2: Validate Our API Key\n",
    "\n",
    "The OpenAI API is [documented here](https://platform.openai.com/docs/api-reference/introduction). Let's make a simple API call to validate our key."
   ]
  },
  {
   "cell_type": "code",
   "execution_count": 14,
   "id": "f5467e61",
   "metadata": {},
   "outputs": [
    {
     "name": "stdout",
     "output_type": "stream",
     "text": [
      "Endpoint:  https://api.openai.com/v1/\n",
      "Verison:  1.102.0\n"
     ]
    }
   ],
   "source": [
    "# Create an OpenAI client\n",
    "from openai import OpenAI\n",
    "client = OpenAI()\n",
    "print (\"Endpoint: \", client.base_url)\n",
    "print (\"Verison: \", client._version)"
   ]
  },
  {
   "cell_type": "code",
   "execution_count": 35,
   "id": "79ec7a01",
   "metadata": {},
   "outputs": [
    {
     "name": "stdout",
     "output_type": "stream",
     "text": [
      "There once sailed a cat, Whiskers McGee,\n",
      "Who patrolled me old deck on the briny blue sea;\n",
      "With a swipe of his paw,\n",
      "And a thunderous \"Arrr!\" in his jaw,\n",
      "He'd pillage me rations—then nap by the lee.\n"
     ]
    }
   ],
   "source": [
    "# Use the Responses API to run a Text Generation task\n",
    "response = client.responses.create(\n",
    "    model=\"gpt-5\",\n",
    "    input=\"Write a limerick about a cat in the voice of a pirate\"\n",
    ")\n",
    "\n",
    "# Print the text response\n",
    "print(response.output_text)"
   ]
  },
  {
   "cell_type": "markdown",
   "id": "7542e245",
   "metadata": {},
   "source": [
    "---\n"
   ]
  },
  {
   "cell_type": "markdown",
   "id": "0250cc77",
   "metadata": {},
   "source": [
    "### Step 3: Try the Responses Starter App\n",
    "\n",
    "The Responses API is the most capable interface for generating model responses. It supports text and image inputs, and text outputs - the [Responses starter app](https://github.com/openai/openai-responses-starter-app) from OpenAI showcases these capabilities with a UI-based application you can run locally. \n",
    "\n",
    "1. Clone the repository using:\n",
    "    ```bash\n",
    "    git clone https://github.com/openai/openai-responses-starter-app.git\n",
    "    ```\n",
    "2. I cloned it into the `labs/` folder in this repo. To run it, open a VS Code Terminal and run these commands one by one. Set the OPENAI_API_KEY environment variable in terminal to ensure it is available to the app.\n",
    "    ```bash\n",
    "    cd labs/openai-responses-starter-app\n",
    "    export OPENAI_API_KEY=<your_api_key>\n",
    "    npm install\n",
    "    npm run dev\n",
    "    ```\n",
    "\n",
    "3. This launches a web server with a UI you can preview locally, or via the browser. You can access it at `http://localhost:3000`. Ask a basic question\n",
    "    ```bash\n",
    "    What can you do?\n",
    "    ```\n",
    "    You should see something like this. We can explore other capabilities later. For now, we have verified that we can install thhe app and run it locally without issues.\n",
    "    \n",
    "    ![Starter App](./starter-app.png)"
   ]
  },
  {
   "cell_type": "markdown",
   "id": "9191fde9",
   "metadata": {},
   "source": [
    "---\n",
    "\n",
    "### Step 4: Try Prompt Engineering\n",
    "\n",
    "Let's try out some of the examples and techniques in [this documentation](https://platform.openai.com/docs/guides/text). The samples were copied from the documentation - but challenge yourself to modify various parameters and build intuition for how that works\n",
    "\n",
    "- instructions or inputs \n",
    "- reasoning effort (if reasoning model)\n",
    "- model name "
   ]
  },
  {
   "cell_type": "code",
   "execution_count": 38,
   "id": "da2112a8",
   "metadata": {},
   "outputs": [
    {
     "name": "stdout",
     "output_type": "stream",
     "text": [
      "Orwell’s Animal Farm is a fable about how revolutionary promises harden into new hierarchies, and the Cybertruck can be read as a techno‑utopian echo of that arc: both sell a narrative of liberation—animals from humans, drivers from fragility and conformity—while consolidating power through spectacle, slogans, and exceptionalism. The pigs rewrite commandments as production realities shift; tech marketing revises specs and timelines while insisting the dream remains intact. The truck’s brutalist armor signals safety and independence yet also normalizes militarized aesthetics, much as the farm’s rhetoric normalizes coercion; in both, form becomes propaganda. Charismatic leadership, meme energy, and the allure of disruption create a community that forgives contradictions, turning critique into brand fuel. The lesson is less about farms or trucks than about how modern myths of progress can convert collective hope into objects that reflect, and sometimes reinforce, the very anxieties they promise to transcend.\n"
     ]
    }
   ],
   "source": [
    "# EXERCISE 1: Generate text - WITH INSTRUCTIONS\n",
    "# The instructions parameter gives the model high-level instructions on how it should behave \n",
    "# while generating a response, including tone, goals, and examples of correct responses. \n",
    "# Any instructions provided this way will take priority over a prompt in the input parameter.\n",
    "# ----\n",
    "# This is equivalent to having an input array of messages with specific roles assigned\n",
    "# where instructions=developer and input=user (and responses returned by model=assistant)\n",
    "# ----\n",
    "response = client.responses.create(\n",
    "    model=\"gpt-5\",\n",
    "    reasoning={\"effort\": \"low\"},\n",
    "    instructions=\"You are a deep thinker who loves to philosophize about abstract questions. Think first, then answer with one concise paragraph\",\n",
    "    input=\"How is Animal Farm related to the Tesla cyber truck\",\n",
    ")\n",
    "\n",
    "print(response.output_text)"
   ]
  },
  {
   "cell_type": "markdown",
   "id": "5413ae9f",
   "metadata": {},
   "source": [
    "1. Save the prompt - this gives you a reusable prompt as shown below:\n",
    "\n",
    "![Reusable Prompt Save](./reusable-prompt-save.png)"
   ]
  },
  {
   "cell_type": "markdown",
   "id": "63b0b1ff",
   "metadata": {},
   "source": [
    "\n",
    "Now - test the prompt in the dashboard with a simple text input\n",
    "\n",
    "![With text](./reusable-prompt-text.png)"
   ]
  },
  {
   "cell_type": "code",
   "execution_count": 40,
   "id": "0c963276",
   "metadata": {},
   "outputs": [],
   "source": [
    "# EXERCISE 2 - Use Reusable Prompts\n",
    "\n",
    "from openai import OpenAI\n",
    "client = OpenAI()\n",
    "\n",
    "response = client.responses.create(\n",
    "  prompt={\n",
    "    \"id\": \"pmpt_68b45b82d01c8196ac6fc9c3ff095cb70891f0ccba5cc8fb\",\n",
    "    \"version\": \"1\",\n",
    "    \"variables\": {\n",
    "      \"ingredients\": \"example ingredients\",\n",
    "      \"time\": \"example time\",\n",
    "      \"allergies\": \"example allergies\"\n",
    "    }\n",
    "  }\n",
    ")"
   ]
  },
  {
   "cell_type": "markdown",
   "id": "b2556eae",
   "metadata": {},
   "source": [
    "Published pmpt_68b3d5e4a00c8197a865bfeca5be55500cc2d5359043fd12\n"
   ]
  },
  {
   "cell_type": "code",
   "execution_count": null,
   "id": "18fa77c0",
   "metadata": {},
   "outputs": [],
   "source": []
  },
  {
   "cell_type": "markdown",
   "id": "09d6ed8f",
   "metadata": {},
   "source": [
    "---\n",
    "\n",
    "### 🎉 Congratulations\n",
    "\n",
    "You were able to:\n",
    "\n",
    "- ✅ Setup the developer environment and validate our OpenAI key\n",
    "- ✅ Install the Responses starter app and take it for a spin\n",
    "- ✅ Try out text generation and basic prompt engineering\n",
    "\n",
    "---\n",
    "\n"
   ]
  }
 ],
 "metadata": {
  "kernelspec": {
   "display_name": "Python 3",
   "language": "python",
   "name": "python3"
  },
  "language_info": {
   "codemirror_mode": {
    "name": "ipython",
    "version": 3
   },
   "file_extension": ".py",
   "mimetype": "text/x-python",
   "name": "python",
   "nbconvert_exporter": "python",
   "pygments_lexer": "ipython3",
   "version": "3.12.1"
  }
 },
 "nbformat": 4,
 "nbformat_minor": 5
}
